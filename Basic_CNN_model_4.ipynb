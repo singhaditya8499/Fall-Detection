{
 "cells": [
  {
   "cell_type": "code",
   "execution_count": 76,
   "id": "7d98d438",
   "metadata": {},
   "outputs": [],
   "source": [
    "import pandas as pd\n",
    "import numpy as np\n",
    "import random\n",
    "import matplotlib.pyplot as plt\n",
    "from sklearn.model_selection import train_test_split\n",
    "import seaborn as sns\n",
    "from sklearn.metrics import accuracy_score, confusion_matrix"
   ]
  },
  {
   "cell_type": "code",
   "execution_count": 2,
   "id": "ff3e8955",
   "metadata": {},
   "outputs": [],
   "source": [
    "data = pd.read_csv(\"./data/labels.csv\")"
   ]
  },
  {
   "cell_type": "code",
   "execution_count": 3,
   "id": "36fbc362",
   "metadata": {},
   "outputs": [
    {
     "data": {
      "text/html": [
       "<div>\n",
       "<style scoped>\n",
       "    .dataframe tbody tr th:only-of-type {\n",
       "        vertical-align: middle;\n",
       "    }\n",
       "\n",
       "    .dataframe tbody tr th {\n",
       "        vertical-align: top;\n",
       "    }\n",
       "\n",
       "    .dataframe thead th {\n",
       "        text-align: right;\n",
       "    }\n",
       "</style>\n",
       "<table border=\"1\" class=\"dataframe\">\n",
       "  <thead>\n",
       "    <tr style=\"text-align: right;\">\n",
       "      <th></th>\n",
       "      <th>sequence_name</th>\n",
       "      <th>frame_number</th>\n",
       "      <th>label</th>\n",
       "      <th>HeightWidthRatio</th>\n",
       "      <th>MajorMinorRatio</th>\n",
       "      <th>BoundingBoxOccupancy</th>\n",
       "      <th>MaxStdXZ</th>\n",
       "      <th>HHmaxRatio</th>\n",
       "      <th>H</th>\n",
       "      <th>D</th>\n",
       "      <th>P40</th>\n",
       "      <th>image_sample</th>\n",
       "    </tr>\n",
       "  </thead>\n",
       "  <tbody>\n",
       "    <tr>\n",
       "      <th>0</th>\n",
       "      <td>adl-01</td>\n",
       "      <td>6</td>\n",
       "      <td>-1</td>\n",
       "      <td>6.3214</td>\n",
       "      <td>8.2230</td>\n",
       "      <td>0.49455</td>\n",
       "      <td>140.7718</td>\n",
       "      <td>0.95720</td>\n",
       "      <td>1761.2471</td>\n",
       "      <td>927.3002</td>\n",
       "      <td>0.026112</td>\n",
       "      <td>./data/adl_imgs/adl-01-cam0-d-006.png</td>\n",
       "    </tr>\n",
       "    <tr>\n",
       "      <th>1</th>\n",
       "      <td>adl-01</td>\n",
       "      <td>8</td>\n",
       "      <td>-1</td>\n",
       "      <td>3.6316</td>\n",
       "      <td>4.5713</td>\n",
       "      <td>0.60584</td>\n",
       "      <td>159.6548</td>\n",
       "      <td>0.77655</td>\n",
       "      <td>1428.8440</td>\n",
       "      <td>818.2913</td>\n",
       "      <td>0.075228</td>\n",
       "      <td>./data/adl_imgs/adl-01-cam0-d-008.png</td>\n",
       "    </tr>\n",
       "    <tr>\n",
       "      <th>2</th>\n",
       "      <td>adl-01</td>\n",
       "      <td>9</td>\n",
       "      <td>-1</td>\n",
       "      <td>4.8158</td>\n",
       "      <td>5.5638</td>\n",
       "      <td>0.62698</td>\n",
       "      <td>138.9976</td>\n",
       "      <td>0.93626</td>\n",
       "      <td>1722.7250</td>\n",
       "      <td>908.9348</td>\n",
       "      <td>0.085550</td>\n",
       "      <td>./data/adl_imgs/adl-01-cam0-d-009.png</td>\n",
       "    </tr>\n",
       "    <tr>\n",
       "      <th>3</th>\n",
       "      <td>adl-01</td>\n",
       "      <td>10</td>\n",
       "      <td>-1</td>\n",
       "      <td>4.5122</td>\n",
       "      <td>5.1677</td>\n",
       "      <td>0.59209</td>\n",
       "      <td>138.3854</td>\n",
       "      <td>0.93194</td>\n",
       "      <td>1714.7726</td>\n",
       "      <td>944.6872</td>\n",
       "      <td>0.045424</td>\n",
       "      <td>./data/adl_imgs/adl-01-cam0-d-010.png</td>\n",
       "    </tr>\n",
       "    <tr>\n",
       "      <th>4</th>\n",
       "      <td>adl-01</td>\n",
       "      <td>11</td>\n",
       "      <td>-1</td>\n",
       "      <td>4.1333</td>\n",
       "      <td>4.7776</td>\n",
       "      <td>0.60872</td>\n",
       "      <td>140.1724</td>\n",
       "      <td>0.93203</td>\n",
       "      <td>1714.9402</td>\n",
       "      <td>923.3361</td>\n",
       "      <td>0.072031</td>\n",
       "      <td>./data/adl_imgs/adl-01-cam0-d-011.png</td>\n",
       "    </tr>\n",
       "  </tbody>\n",
       "</table>\n",
       "</div>"
      ],
      "text/plain": [
       "  sequence_name  frame_number  label  HeightWidthRatio  MajorMinorRatio  \\\n",
       "0        adl-01             6     -1            6.3214           8.2230   \n",
       "1        adl-01             8     -1            3.6316           4.5713   \n",
       "2        adl-01             9     -1            4.8158           5.5638   \n",
       "3        adl-01            10     -1            4.5122           5.1677   \n",
       "4        adl-01            11     -1            4.1333           4.7776   \n",
       "\n",
       "   BoundingBoxOccupancy  MaxStdXZ  HHmaxRatio          H         D       P40  \\\n",
       "0               0.49455  140.7718     0.95720  1761.2471  927.3002  0.026112   \n",
       "1               0.60584  159.6548     0.77655  1428.8440  818.2913  0.075228   \n",
       "2               0.62698  138.9976     0.93626  1722.7250  908.9348  0.085550   \n",
       "3               0.59209  138.3854     0.93194  1714.7726  944.6872  0.045424   \n",
       "4               0.60872  140.1724     0.93203  1714.9402  923.3361  0.072031   \n",
       "\n",
       "                            image_sample  \n",
       "0  ./data/adl_imgs/adl-01-cam0-d-006.png  \n",
       "1  ./data/adl_imgs/adl-01-cam0-d-008.png  \n",
       "2  ./data/adl_imgs/adl-01-cam0-d-009.png  \n",
       "3  ./data/adl_imgs/adl-01-cam0-d-010.png  \n",
       "4  ./data/adl_imgs/adl-01-cam0-d-011.png  "
      ]
     },
     "execution_count": 3,
     "metadata": {},
     "output_type": "execute_result"
    }
   ],
   "source": [
    "data.head()"
   ]
  },
  {
   "cell_type": "code",
   "execution_count": 8,
   "id": "3ddf4b86",
   "metadata": {},
   "outputs": [],
   "source": [
    "data_with_only_image_dir = data[['image_sample', 'label']]"
   ]
  },
  {
   "cell_type": "code",
   "execution_count": 13,
   "id": "29c287ba",
   "metadata": {},
   "outputs": [],
   "source": [
    "data_with_only_image_dir.to_csv(\"./data/data_with_only_image_dir.csv\", index=False)"
   ]
  },
  {
   "cell_type": "markdown",
   "id": "a8aab996",
   "metadata": {},
   "source": [
    "## Checkpoint 1"
   ]
  },
  {
   "cell_type": "code",
   "execution_count": 63,
   "id": "4b025635",
   "metadata": {},
   "outputs": [],
   "source": [
    "X = data_with_only_image_dir.image_sample\n",
    "y = data_with_only_image_dir.label\n",
    "y = y + 1"
   ]
  },
  {
   "cell_type": "code",
   "execution_count": 64,
   "id": "4ba5c3ea",
   "metadata": {},
   "outputs": [],
   "source": [
    "def preprocess_images(image_paths, target_size=(224, 224)):\n",
    "    images = []\n",
    "    for path in image_paths:\n",
    "        img = load_img(path, target_size=target_size)\n",
    "        img_array = img_to_array(img)\n",
    "        images.append(img_array)\n",
    "    return np.array(images)\n",
    "\n",
    "# Split the data into training and testing sets\n",
    "X_train_paths, X_test_paths, y_train, y_test = train_test_split(X, y, test_size=0.2, random_state=42, stratify=y)\n",
    "\n",
    "# Preprocess the images\n",
    "X_train_images = preprocess_images(X_train_paths)\n",
    "X_test_images = preprocess_images(X_test_paths)"
   ]
  },
  {
   "cell_type": "code",
   "execution_count": 66,
   "id": "d1522f94",
   "metadata": {},
   "outputs": [
    {
     "name": "stdout",
     "output_type": "stream",
     "text": [
      "(9235, 224, 224, 3) (9235,)\n"
     ]
    }
   ],
   "source": [
    "print(X_train_images.shape, y_train.shape)"
   ]
  },
  {
   "cell_type": "code",
   "execution_count": 67,
   "id": "048f973c",
   "metadata": {},
   "outputs": [
    {
     "name": "stdout",
     "output_type": "stream",
     "text": [
      "(2309, 224, 224, 3) (2309,)\n"
     ]
    }
   ],
   "source": [
    "print(X_test_images.shape, y_test.shape)"
   ]
  },
  {
   "cell_type": "markdown",
   "id": "b56742b2",
   "metadata": {},
   "source": [
    "## Create Basic CNN model"
   ]
  },
  {
   "cell_type": "code",
   "execution_count": 68,
   "id": "571c0431",
   "metadata": {},
   "outputs": [],
   "source": [
    "from tensorflow.keras.models import Sequential\n",
    "from tensorflow.keras.layers import Conv2D, MaxPooling2D, Flatten, Dense\n",
    "from tensorflow.keras.preprocessing.image import load_img, img_to_array\n",
    "from tensorflow.keras.callbacks import EarlyStopping"
   ]
  },
  {
   "cell_type": "code",
   "execution_count": 69,
   "id": "fd752daa",
   "metadata": {},
   "outputs": [
    {
     "name": "stdout",
     "output_type": "stream",
     "text": [
      "Model: \"sequential_3\"\n",
      "_________________________________________________________________\n",
      " Layer (type)                Output Shape              Param #   \n",
      "=================================================================\n",
      " conv2d_9 (Conv2D)           (None, 222, 222, 32)      896       \n",
      "                                                                 \n",
      " max_pooling2d_9 (MaxPooling  (None, 111, 111, 32)     0         \n",
      " 2D)                                                             \n",
      "                                                                 \n",
      " conv2d_10 (Conv2D)          (None, 109, 109, 64)      18496     \n",
      "                                                                 \n",
      " max_pooling2d_10 (MaxPoolin  (None, 54, 54, 64)       0         \n",
      " g2D)                                                            \n",
      "                                                                 \n",
      " conv2d_11 (Conv2D)          (None, 52, 52, 128)       73856     \n",
      "                                                                 \n",
      " max_pooling2d_11 (MaxPoolin  (None, 26, 26, 128)      0         \n",
      " g2D)                                                            \n",
      "                                                                 \n",
      " flatten_3 (Flatten)         (None, 86528)             0         \n",
      "                                                                 \n",
      " dense_9 (Dense)             (None, 128)               11075712  \n",
      "                                                                 \n",
      " dense_10 (Dense)            (None, 64)                8256      \n",
      "                                                                 \n",
      " dense_11 (Dense)            (None, 3)                 195       \n",
      "                                                                 \n",
      "=================================================================\n",
      "Total params: 11,177,411\n",
      "Trainable params: 11,177,411\n",
      "Non-trainable params: 0\n",
      "_________________________________________________________________\n"
     ]
    }
   ],
   "source": [
    "model = Sequential()\n",
    "\n",
    "# Add Convolutional layers\n",
    "model.add(Conv2D(32, (3, 3), activation='relu', input_shape=(224, 224, 3)))\n",
    "model.add(MaxPooling2D((2, 2)))\n",
    "\n",
    "model.add(Conv2D(64, (3, 3), activation='relu'))\n",
    "model.add(MaxPooling2D((2, 2)))\n",
    "\n",
    "model.add(Conv2D(128, (3, 3), activation='relu'))\n",
    "model.add(MaxPooling2D((2, 2)))\n",
    "\n",
    "# Flatten the output before the fully connected layers\n",
    "model.add(Flatten())\n",
    "\n",
    "# Add Fully Connected layers\n",
    "model.add(Dense(128, activation='relu'))\n",
    "model.add(Dense(64, activation='relu'))\n",
    "\n",
    "# Output layer with three units for the three labels and softmax activation\n",
    "model.add(Dense(3, activation='softmax'))\n",
    "\n",
    "# Compile the model\n",
    "model.compile(optimizer='adam', loss='sparse_categorical_crossentropy', metrics=['accuracy'])\n",
    "\n",
    "# Print the model summary\n",
    "model.summary()"
   ]
  },
  {
   "cell_type": "code",
   "execution_count": 70,
   "id": "25187914",
   "metadata": {},
   "outputs": [],
   "source": [
    "import visualkeras"
   ]
  },
  {
   "cell_type": "code",
   "execution_count": 71,
   "id": "1c85220b",
   "metadata": {},
   "outputs": [
    {
     "data": {
      "image/png": "[encoded data removed]",
      "text/plain": [
       "<PIL.Image.Image image mode=RGBA size=690x919>"
      ]
     },
     "execution_count": 71,
     "metadata": {},
     "output_type": "execute_result"
    }
   ],
   "source": [
    "visualkeras.layered_view(model, draw_volume=False, legend=True)"
   ]
  },
  {
   "cell_type": "code",
   "execution_count": 72,
   "id": "86482732",
   "metadata": {},
   "outputs": [
    {
     "name": "stdout",
     "output_type": "stream",
     "text": [
      "Epoch 1/10\n",
      "289/289 [==============================] - 331s 1s/step - loss: 6.0520 - accuracy: 0.6776 - val_loss: 0.6406 - val_accuracy: 0.6968\n",
      "Epoch 2/10\n",
      "289/289 [==============================] - 329s 1s/step - loss: 0.4985 - accuracy: 0.7897 - val_loss: 0.3742 - val_accuracy: 0.8701\n",
      "Epoch 3/10\n",
      "289/289 [==============================] - 328s 1s/step - loss: 0.2362 - accuracy: 0.9153 - val_loss: 0.2089 - val_accuracy: 0.9238\n",
      "Epoch 4/10\n",
      "289/289 [==============================] - 328s 1s/step - loss: 0.1415 - accuracy: 0.9512 - val_loss: 0.1974 - val_accuracy: 0.9303\n",
      "Epoch 5/10\n",
      "289/289 [==============================] - 327s 1s/step - loss: 0.1002 - accuracy: 0.9621 - val_loss: 0.1816 - val_accuracy: 0.9363\n",
      "Epoch 6/10\n",
      "289/289 [==============================] - 341s 1s/step - loss: 0.5657 - accuracy: 0.7598 - val_loss: 0.6844 - val_accuracy: 0.6726\n",
      "Epoch 7/10\n",
      "289/289 [==============================] - 662s 2s/step - loss: 0.6553 - accuracy: 0.6916 - val_loss: 0.6569 - val_accuracy: 0.6808\n",
      "Epoch 8/10\n",
      "289/289 [==============================] - 351s 1s/step - loss: 0.6058 - accuracy: 0.7165 - val_loss: 0.6238 - val_accuracy: 0.6981\n"
     ]
    }
   ],
   "source": [
    "# Define early stopping\n",
    "early_stopping = EarlyStopping(monitor='val_loss', patience=3, restore_best_weights=True)\n",
    "\n",
    "# Train the model with early stopping\n",
    "history = model.fit(X_train_images, y_train, epochs=10, validation_data=(X_test_images, y_test), callbacks=[early_stopping])"
   ]
  },
  {
   "cell_type": "code",
   "execution_count": 78,
   "id": "4cc1b9aa",
   "metadata": {},
   "outputs": [
    {
     "data": {
      "image/png": "[encoded data removed]",
      "text/plain": [
       "<Figure size 432x288 with 1 Axes>"
      ]
     },
     "metadata": {
      "needs_background": "light"
     },
     "output_type": "display_data"
    },
    {
     "data": {
      "image/png": "[encoded data removed]",
      "text/plain": [
       "<Figure size 432x288 with 1 Axes>"
      ]
     },
     "metadata": {
      "needs_background": "light"
     },
     "output_type": "display_data"
    }
   ],
   "source": [
    "# Plot training and validation accuracy\n",
    "plt.plot(history.history['accuracy'], label='Training Accuracy')\n",
    "plt.plot(history.history['val_accuracy'], label='Validation Accuracy')\n",
    "plt.title('Training and Validation Accuracy')\n",
    "plt.xlabel('Epoch')\n",
    "plt.ylabel('Accuracy')\n",
    "plt.legend()\n",
    "plt.show()\n",
    "\n",
    "# Plot training and validation loss\n",
    "plt.plot(history.history['loss'], label='Training Loss')\n",
    "plt.plot(history.history['val_loss'], label='Validation Loss')\n",
    "plt.title('Training and Validation Loss')\n",
    "plt.xlabel('Epoch')\n",
    "plt.ylabel('Loss')\n",
    "plt.legend()\n",
    "plt.show()"
   ]
  },
  {
   "cell_type": "code",
   "execution_count": 77,
   "id": "011539be",
   "metadata": {},
   "outputs": [
    {
     "name": "stdout",
     "output_type": "stream",
     "text": [
      "73/73 [==============================] - 18s 248ms/step\n",
      "Accuracy on the testing set: 93.63%\n"
     ]
    },
    {
     "data": {
      "image/png": "[encoded data removed]",
      "text/plain": [
       "<Figure size 576x432 with 2 Axes>"
      ]
     },
     "metadata": {
      "needs_background": "light"
     },
     "output_type": "display_data"
    }
   ],
   "source": [
    "# Evaluate the model on the testing set\n",
    "y_pred = model.predict(X_test_images)\n",
    "y_pred_classes = np.argmax(y_pred, axis=1)\n",
    "\n",
    "# Calculate accuracy\n",
    "accuracy = accuracy_score(y_test, y_pred_classes)\n",
    "print(f\"Accuracy on the testing set: {accuracy * 100:.2f}%\")\n",
    "\n",
    "# Create a confusion matrix\n",
    "conf_matrix = confusion_matrix(y_test, y_pred_classes)\n",
    "\n",
    "# Visualize the confusion matrix\n",
    "plt.figure(figsize=(8, 6))\n",
    "sns.heatmap(conf_matrix, annot=True, fmt='d', cmap='Blues', xticklabels=['-1', '0', '1'], yticklabels=['-1', '0', '1'])\n",
    "plt.title('Confusion Matrix')\n",
    "plt.xlabel('Predicted')\n",
    "plt.ylabel('True')\n",
    "plt.show()"
   ]
  },
  {
   "cell_type": "code",
   "execution_count": null,
   "id": "d72b3a84",
   "metadata": {},
   "outputs": [],
   "source": []
  }
 ],
 "metadata": {
  "kernelspec": {
   "display_name": "Python 3 (ipykernel)",
   "language": "python",
   "name": "python3"
  },
  "language_info": {
   "codemirror_mode": {
    "name": "ipython",
    "version": 3
   },
   "file_extension": ".py",
   "mimetype": "text/x-python",
   "name": "python",
   "nbconvert_exporter": "python",
   "pygments_lexer": "ipython3",
   "version": "3.9.7"
  }
 },
 "nbformat": 4,
 "nbformat_minor": 5
}
