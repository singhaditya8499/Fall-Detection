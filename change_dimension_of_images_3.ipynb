{
 "cells": [
  {
   "cell_type": "code",
   "execution_count": 7,
   "id": "394e27d2",
   "metadata": {},
   "outputs": [],
   "source": [
    "import pandas as pd\n",
    "import numpy as np\n",
    "import matplotlib.pyplot as plt\n",
    "import cv2"
   ]
  },
  {
   "cell_type": "code",
   "execution_count": 2,
   "id": "7e7e4d97",
   "metadata": {},
   "outputs": [],
   "source": [
    "data = pd.read_csv(\"./data/labels.csv\")"
   ]
  },
  {
   "cell_type": "code",
   "execution_count": 18,
   "id": "a1ed92c9",
   "metadata": {},
   "outputs": [],
   "source": [
    "dimension = set()\n",
    "for i in range(data.shape[0]):\n",
    "    if \"adl\" in data.iloc[i][\"image_sample\"]:\n",
    "        image = cv2.imread(data.iloc[i][\"image_sample\"])\n",
    "        dimension.add(image.shape)"
   ]
  },
  {
   "cell_type": "code",
   "execution_count": 19,
   "id": "ad712617",
   "metadata": {},
   "outputs": [
    {
     "data": {
      "text/plain": [
       "{(224, 224, 3)}"
      ]
     },
     "execution_count": 19,
     "metadata": {},
     "output_type": "execute_result"
    }
   ],
   "source": [
    "dimension"
   ]
  },
  {
   "cell_type": "code",
   "execution_count": 17,
   "id": "76ec8bc2",
   "metadata": {},
   "outputs": [
    {
     "name": "stderr",
     "output_type": "stream",
     "text": [
      "/var/folders/wz/cnwy77v95fz65y4_p_vs2l140000gn/T/ipykernel_8185/1409626027.py:20: DeprecationWarning: ANTIALIAS is deprecated and will be removed in Pillow 10 (2023-07-01). Use Resampling.LANCZOS instead.\n",
      "  resized_image = image.resize(target_size, Image.ANTIALIAS)\n"
     ]
    },
    {
     "name": "stdout",
     "output_type": "stream",
     "text": [
      "Resizing and replacing complete.\n"
     ]
    }
   ],
   "source": [
    "from PIL import Image\n",
    "import os\n",
    "\n",
    "# Specify the input directory\n",
    "input_directory = './data/adl_imgs/'\n",
    "\n",
    "# Specify the target size\n",
    "target_size = (224, 224)\n",
    "\n",
    "# Loop through all files in the input directory\n",
    "for filename in os.listdir(input_directory):\n",
    "    if filename.endswith(\".jpg\") or filename.endswith(\".png\"):\n",
    "        # Construct the full file paths\n",
    "        input_path = os.path.join(input_directory, filename)\n",
    "\n",
    "        # Open the image\n",
    "        image = Image.open(input_path)\n",
    "\n",
    "        # Resize the image\n",
    "        resized_image = image.resize(target_size, Image.ANTIALIAS)\n",
    "\n",
    "        # Save the resized image, overwriting the original\n",
    "        resized_image.save(input_path)\n",
    "\n",
    "print(\"Resizing and replacing complete.\")\n"
   ]
  },
  {
   "cell_type": "code",
   "execution_count": 20,
   "id": "2b9c7067",
   "metadata": {},
   "outputs": [
    {
     "name": "stderr",
     "output_type": "stream",
     "text": [
      "/var/folders/wz/cnwy77v95fz65y4_p_vs2l140000gn/T/ipykernel_8185/2948724945.py:20: DeprecationWarning: ANTIALIAS is deprecated and will be removed in Pillow 10 (2023-07-01). Use Resampling.LANCZOS instead.\n",
      "  resized_image = image.resize(target_size, Image.ANTIALIAS)\n"
     ]
    },
    {
     "name": "stdout",
     "output_type": "stream",
     "text": [
      "Resizing and replacing complete.\n"
     ]
    }
   ],
   "source": [
    "from PIL import Image\n",
    "import os\n",
    "\n",
    "# Specify the input directory\n",
    "input_directory = './data/fall_imgs/'\n",
    "\n",
    "# Specify the target size\n",
    "target_size = (224, 224)\n",
    "\n",
    "# Loop through all files in the input directory\n",
    "for filename in os.listdir(input_directory):\n",
    "    if filename.endswith(\".jpg\") or filename.endswith(\".png\"):\n",
    "        # Construct the full file paths\n",
    "        input_path = os.path.join(input_directory, filename)\n",
    "\n",
    "        # Open the image\n",
    "        image = Image.open(input_path)\n",
    "\n",
    "        # Resize the image\n",
    "        resized_image = image.resize(target_size, Image.ANTIALIAS)\n",
    "\n",
    "        # Save the resized image, overwriting the original\n",
    "        resized_image.save(input_path)\n",
    "\n",
    "print(\"Resizing and replacing complete.\")\n"
   ]
  },
  {
   "cell_type": "code",
   "execution_count": null,
   "id": "ca1f0af1",
   "metadata": {},
   "outputs": [],
   "source": []
  }
 ],
 "metadata": {
  "kernelspec": {
   "display_name": "Python 3 (ipykernel)",
   "language": "python",
   "name": "python3"
  },
  "language_info": {
   "codemirror_mode": {
    "name": "ipython",
    "version": 3
   },
   "file_extension": ".py",
   "mimetype": "text/x-python",
   "name": "python",
   "nbconvert_exporter": "python",
   "pygments_lexer": "ipython3",
   "version": "3.9.7"
  }
 },
 "nbformat": 4,
 "nbformat_minor": 5
}
